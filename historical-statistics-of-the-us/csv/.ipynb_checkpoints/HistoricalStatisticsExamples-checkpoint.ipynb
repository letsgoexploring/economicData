{
 "cells": [
  {
   "cell_type": "code",
   "execution_count": 25,
   "metadata": {
    "collapsed": false
   },
   "outputs": [],
   "source": [
    "from __future__ import division\n",
    "import matplotlib.pyplot as plt\n",
    "import matplotlib.dates as dts\n",
    "from fredpy import series, window_equalize,toFredSeries\n",
    "import numpy as np\n",
    "import runProcs\n",
    "import wbpy,wbdata\n",
    "from pprint import pprint\n",
    "from datetime import date\n",
    "import dateutil\n",
    "import pandas as pd\n",
    "%matplotlib inline"
   ]
  },
  {
   "cell_type": "code",
   "execution_count": 26,
   "metadata": {
    "collapsed": false
   },
   "outputs": [],
   "source": [
    "# 0.1 general plot settings\n",
    "\n",
    "font = {'weight' : 'bold',\n",
    "        'size'   : 15}\n",
    "plt.rc('font', **font)\n",
    "plt.rcParams['xtick.major.pad']='8'\n",
    "plt.rcParams['ytick.major.pad']='8'\n",
    "\n",
    "\n",
    "# 0.2 Formatter for inserting commas in y axis labels with magnitudes in the thousands\n",
    "\n",
    "def func(x, pos):  # formatter function takes tick label and tick position\n",
    "   s = '{:0,d}'.format(int(x))\n",
    "   return s\n",
    "\n",
    "y_format = plt.FuncFormatter(func)  # make formatter\n",
    "\n",
    "# 0.3 format the x axis ticksticks\n",
    "years2,years4,years5,years10,years15,years20= dts.YearLocator(2),dts.YearLocator(4),dts.YearLocator(5),dts.YearLocator(10),dts.YearLocator(15),dts.YearLocator(20)\n",
    "\n",
    "\n",
    "# 0.4 y label locator for vertical axes plotting gdp\n",
    "majorLocator_y   = plt.MultipleLocator(3)\n",
    "majorLocator_shares   = plt.MultipleLocator(0.2)\n",
    "\n",
    "# 0.5 Index locator\n",
    "def findDateIndex(dateStr,fredObj):\n",
    "    for n,d in enumerate(fredObj.dates):\n",
    "        if d == dateStr:\n",
    "            return n\n",
    "\n"
   ]
  },
  {
   "cell_type": "code",
   "execution_count": 27,
   "metadata": {
    "collapsed": false
   },
   "outputs": [],
   "source": [
    "def HistDataToFred(data,name):\n",
    "    new=toFredSeries(data=data[name],dates=data.index,t=1,title='blank')\n",
    "    newData = []\n",
    "    for d in new.data:\n",
    "        newData.append(float(d))\n",
    "    new.data = newData\n",
    "    return new\n",
    "\n",
    "def convertIndex(data):\n",
    "    new = data\n",
    "    newIndex=[]\n",
    "    for n,item in enumerate(new.index):\n",
    "        newIndex.append(str(new.index[n])+'-01-01')\n",
    "    new.index = newIndex\n",
    "    return new"
   ]
  },
  {
   "cell_type": "code",
   "execution_count": 28,
   "metadata": {
    "collapsed": false
   },
   "outputs": [],
   "source": [
    "names = ['GNP - current prices [bil. of dollars]',\n",
    "         'GNP per capita [current prices - dollars]',\n",
    "         'GNP - 1958 prices [bil. of dollars]',\n",
    "         'GNP per capita [1958 prices - dollars]',\n",
    "         'GNP deflator [1958 = 100]'\n",
    "         ]\n",
    "\n",
    "gnpData = pd.read_csv('Historical Statistics of the US - gross national product.csv', names= names, skiprows  =8)\n",
    "gnpData = convertIndex(gnpData)\n",
    "\n",
    "\n",
    "gnpPc =HistDataToFred(gnpData,'GNP per capita [1958 prices - dollars]')\n",
    "gnpDef=HistDataToFred(gnpData,'GNP deflator [1958 = 100]')"
   ]
  },
  {
   "cell_type": "code",
   "execution_count": 29,
   "metadata": {
    "collapsed": false
   },
   "outputs": [],
   "source": [
    "names = ['unemployed [thousands]',\n",
    "         'unemployment rate [percent]'\n",
    "]\n",
    "\n",
    "unempData = pd.read_csv('Historical Statistics of the US - unemployment.csv', names= names, skiprows  =5)\n",
    "unempData = convertIndex(unempData)\n",
    "unempRate =HistDataToFred(unempData,'unemployment rate [percent]')"
   ]
  },
  {
   "cell_type": "code",
   "execution_count": 30,
   "metadata": {
    "collapsed": false
   },
   "outputs": [],
   "source": [
    "names = ['currency held by public [bil. of dollars]',\n",
    "         'deposits - total [bil. of dollars]',\n",
    "         'deposits - demand [bil. of dollars]',\n",
    "         'deposits - time [bil. of dollars]',\n",
    "         'M1 [bil. of dollars]',\n",
    "         'M2 [bil. of dollars]',\n",
    "         'bank vault cash [bil. of dollars]',\n",
    "         'monetary gold stock [bil. of dollars]',\n",
    "         'deposits at nonbanks - mutual savings banks [bil. of dollars]',\n",
    "         'deposits at nonbanks - S&L associations [bil. of dollars]',\n",
    "         ]\n",
    "\n",
    "moneyData = pd.read_csv('Historical Statistics of the US - money stock.csv', names= names, skiprows  =6)\n",
    "moneyData = convertIndex(moneyData)\n",
    "m2 =HistDataToFred(moneyData,'M2 [bil. of dollars]')"
   ]
  },
  {
   "cell_type": "code",
   "execution_count": null,
   "metadata": {
    "collapsed": false
   },
   "outputs": [],
   "source": []
  },
  {
   "cell_type": "code",
   "execution_count": null,
   "metadata": {
    "collapsed": false
   },
   "outputs": [],
   "source": []
  },
  {
   "cell_type": "code",
   "execution_count": null,
   "metadata": {
    "collapsed": false
   },
   "outputs": [],
   "source": []
  },
  {
   "cell_type": "code",
   "execution_count": null,
   "metadata": {
    "collapsed": false
   },
   "outputs": [],
   "source": []
  },
  {
   "cell_type": "code",
   "execution_count": null,
   "metadata": {
    "collapsed": false
   },
   "outputs": [],
   "source": []
  },
  {
   "cell_type": "code",
   "execution_count": null,
   "metadata": {
    "collapsed": false
   },
   "outputs": [],
   "source": []
  },
  {
   "cell_type": "code",
   "execution_count": 31,
   "metadata": {
    "collapsed": false
   },
   "outputs": [],
   "source": [
    "# gnpPc.apc()\n",
    "# gnpDef.apc()\n",
    "# m2.apc()\n",
    "\n",
    "# win =['1900-01-01','1940-01-01']\n",
    "# gnpPc.window(win)\n",
    "# gnpDef.window(win)\n",
    "# unempRate.window(win)\n",
    "# m2.window(win)"
   ]
  },
  {
   "cell_type": "code",
   "execution_count": 32,
   "metadata": {
    "collapsed": false
   },
   "outputs": [
    {
     "data": {
      "image/png": "[encoded data removed]",
      "text/plain": [
       "<matplotlib.figure.Figure at 0x105143860>"
      ]
     },
     "metadata": {},
     "output_type": "display_data"
    }
   ],
   "source": [
    "fig = plt.figure()\n",
    "ax = fig.add_subplot(2,2,1)\n",
    "ax.plot_date(gnpPc.datenumbers,gnpPc.data,'-',lw=2)\n",
    "gnpPc.recessions()\n",
    "ax.set_title('gnp')\n",
    "ax.xaxis.set_major_locator(years10)\n",
    "\n",
    "ax = fig.add_subplot(2,2,2)\n",
    "ax.plot_date(gnpDef.datenumbers,gnpDef.data,'-',lw=2)\n",
    "gnpDef.recessions()\n",
    "ax.set_title('inflation')\n",
    "ax.xaxis.set_major_locator(years10)\n",
    "\n",
    "ax = fig.add_subplot(2,2,3)\n",
    "ax.plot_date(unempRate.datenumbers,unempRate.data,'-',lw=2)\n",
    "unempRate.recessions()\n",
    "ax.set_title('unemployment rate')\n",
    "ax.xaxis.set_major_locator(years10)\n",
    "\n",
    "ax = fig.add_subplot(2,2,4)\n",
    "ax.plot_date(m2.datenumbers,m2.data,'-',lw=2)\n",
    "m2.recessions()\n",
    "ax.set_title('m2 growth')\n",
    "ax.xaxis.set_major_locator(years10)\n",
    "\n",
    "\n",
    "fig.autofmt_xdate()\n",
    "# ax.grid(True)\n"
   ]
  },
  {
   "cell_type": "code",
   "execution_count": 33,
   "metadata": {
    "collapsed": false
   },
   "outputs": [],
   "source": [
    "unempFred = series('UNRATE')\n",
    "unempFred.monthtoannual(method='average')"
   ]
  },
  {
   "cell_type": "code",
   "execution_count": 42,
   "metadata": {
    "collapsed": false
   },
   "outputs": [
    {
     "data": {
      "image/png": "[encoded data removed]",
      "text/plain": [
       "<matplotlib.figure.Figure at 0x10d7e4ef0>"
      ]
     },
     "metadata": {},
     "output_type": "display_data"
    }
   ],
   "source": [
    "fig = plt.figure()\n",
    "ax = fig.add_subplot(1,1,1)\n",
    "ax.plot_date(unempRate.datenumbers,unempRate.data,'b-',lw=2)\n",
    "ax.plot_date(unempFred.datenumbers,unempFred.data,'r-',lw=2)\n",
    "unempRate.recessions()\n",
    "unempFred.recessions()\n",
    "ax.set_title('unemployment rate')\n",
    "ax.xaxis.set_major_locator(years10)\n",
    "\n",
    "fig.autofmt_xdate()"
   ]
  },
  {
   "cell_type": "code",
   "execution_count": null,
   "metadata": {
    "collapsed": false
   },
   "outputs": [],
   "source": []
  },
  {
   "cell_type": "code",
   "execution_count": null,
   "metadata": {
    "collapsed": false
   },
   "outputs": [],
   "source": []
  },
  {
   "cell_type": "code",
   "execution_count": 35,
   "metadata": {
    "collapsed": false
   },
   "outputs": [],
   "source": [
    "gnpFred = series('GNPA')"
   ]
  },
  {
   "cell_type": "code",
   "execution_count": 36,
   "metadata": {
    "collapsed": false
   },
   "outputs": [
    {
     "ename": "NameError",
     "evalue": "name 'gnpTables' is not defined",
     "output_type": "error",
     "traceback": [
      "\u001b[0;31m---------------------------------------------------------------------------\u001b[0m",
      "\u001b[0;31mNameError\u001b[0m                                 Traceback (most recent call last)",
      "\u001b[0;32m<ipython-input-36-8a34847de80e>\u001b[0m in \u001b[0;36m<module>\u001b[0;34m()\u001b[0m\n\u001b[1;32m      3\u001b[0m \u001b[0;34m\u001b[0m\u001b[0m\n\u001b[1;32m      4\u001b[0m \u001b[0;34m\u001b[0m\u001b[0m\n\u001b[0;32m----> 5\u001b[0;31m \u001b[0max\u001b[0m\u001b[0;34m.\u001b[0m\u001b[0mplot_date\u001b[0m\u001b[0;34m(\u001b[0m\u001b[0mgnpTables\u001b[0m\u001b[0;34m.\u001b[0m\u001b[0mdatenumbers\u001b[0m\u001b[0;34m,\u001b[0m\u001b[0mgnpTables\u001b[0m\u001b[0;34m.\u001b[0m\u001b[0mdata\u001b[0m\u001b[0;34m,\u001b[0m\u001b[0;34m'-'\u001b[0m\u001b[0;34m,\u001b[0m\u001b[0mlw\u001b[0m\u001b[0;34m=\u001b[0m\u001b[0;36m2\u001b[0m\u001b[0;34m)\u001b[0m\u001b[0;34m\u001b[0m\u001b[0m\n\u001b[0m\u001b[1;32m      6\u001b[0m \u001b[0max\u001b[0m\u001b[0;34m.\u001b[0m\u001b[0mplot_date\u001b[0m\u001b[0;34m(\u001b[0m\u001b[0mgnpFred\u001b[0m\u001b[0;34m.\u001b[0m\u001b[0mdatenumbers\u001b[0m\u001b[0;34m,\u001b[0m\u001b[0mgnpFred\u001b[0m\u001b[0;34m.\u001b[0m\u001b[0mdata\u001b[0m\u001b[0;34m,\u001b[0m\u001b[0;34m'r-'\u001b[0m\u001b[0;34m,\u001b[0m\u001b[0mlw\u001b[0m\u001b[0;34m=\u001b[0m\u001b[0;36m2\u001b[0m\u001b[0;34m)\u001b[0m\u001b[0;34m\u001b[0m\u001b[0m\n\u001b[1;32m      7\u001b[0m \u001b[0mgnpTables\u001b[0m\u001b[0;34m.\u001b[0m\u001b[0mrecessions\u001b[0m\u001b[0;34m(\u001b[0m\u001b[0;34m)\u001b[0m\u001b[0;34m\u001b[0m\u001b[0m\n",
      "\u001b[0;31mNameError\u001b[0m: name 'gnpTables' is not defined"
     ]
    },
    {
     "data": {
      "image/png": "[encoded data removed]",
      "text/plain": [
       "<matplotlib.figure.Figure at 0x10d895978>"
      ]
     },
     "metadata": {},
     "output_type": "display_data"
    }
   ],
   "source": [
    "fig = plt.figure()\n",
    "ax = fig.add_subplot(1,1,1)\n",
    "\n",
    "\n",
    "ax.plot_date(gnpTables.datenumbers,gnpTables.data,'-',lw=2)\n",
    "ax.plot_date(gnpFred.datenumbers,gnpFred.data,'r-',lw=2)\n",
    "gnpTables.recessions()\n",
    "gnpFred.recessions()\n",
    "ax.set_yscale('log')"
   ]
  },
  {
   "cell_type": "code",
   "execution_count": null,
   "metadata": {
    "collapsed": false
   },
   "outputs": [],
   "source": []
  },
  {
   "cell_type": "code",
   "execution_count": 38,
   "metadata": {
    "collapsed": false
   },
   "outputs": [
    {
     "ename": "ValueError",
     "evalue": "operands could not be broadcast together with shapes (39,) (86,) ",
     "output_type": "error",
     "traceback": [
      "\u001b[0;31m---------------------------------------------------------------------------\u001b[0m",
      "\u001b[0;31mValueError\u001b[0m                                Traceback (most recent call last)",
      "\u001b[0;32m<ipython-input-38-4cac518c05de>\u001b[0m in \u001b[0;36m<module>\u001b[0;34m()\u001b[0m\n\u001b[1;32m     27\u001b[0m \u001b[0mgnpDef\u001b[0m\u001b[0;34m.\u001b[0m\u001b[0mdates\u001b[0m \u001b[0;34m=\u001b[0m \u001b[0mgnpDefTable\u001b[0m\u001b[0;34m.\u001b[0m\u001b[0mdates\u001b[0m\u001b[0;34m.\u001b[0m\u001b[0mtolist\u001b[0m\u001b[0;34m(\u001b[0m\u001b[0;34m)\u001b[0m\u001b[0;34m+\u001b[0m\u001b[0mgnpDefFred\u001b[0m\u001b[0;34m.\u001b[0m\u001b[0mdates\u001b[0m\u001b[0;34m\u001b[0m\u001b[0m\n\u001b[1;32m     28\u001b[0m \u001b[0mgnpDef\u001b[0m\u001b[0;34m.\u001b[0m\u001b[0mdatenumbers\u001b[0m \u001b[0;34m=\u001b[0m \u001b[0mgnpDefTable\u001b[0m\u001b[0;34m.\u001b[0m\u001b[0mdatenumbers\u001b[0m\u001b[0;34m+\u001b[0m\u001b[0mgnpDefFred\u001b[0m\u001b[0;34m.\u001b[0m\u001b[0mdatenumbers\u001b[0m\u001b[0;34m\u001b[0m\u001b[0m\n\u001b[0;32m---> 29\u001b[0;31m \u001b[0mgnpDef\u001b[0m\u001b[0;34m.\u001b[0m\u001b[0mdata\u001b[0m \u001b[0;34m=\u001b[0m \u001b[0mgnpDefTable\u001b[0m\u001b[0;34m.\u001b[0m\u001b[0mdata\u001b[0m\u001b[0;34m+\u001b[0m\u001b[0mgnpDefFred\u001b[0m\u001b[0;34m.\u001b[0m\u001b[0mdata\u001b[0m\u001b[0;34m\u001b[0m\u001b[0m\n\u001b[0m",
      "\u001b[0;31mValueError\u001b[0m: operands could not be broadcast together with shapes (39,) (86,) "
     ]
    }
   ],
   "source": [
    "names = ['GNP - current prices [bil. of dollars]',\n",
    "         'GNP per capita [current prices - dollars]',\n",
    "         'GNP - 1958 prices [bil. of dollars]',\n",
    "         'GNP per capita [1958 prices - dollars]',\n",
    "         'GNP deflator [1958 = 100]'\n",
    "         ]\n",
    "\n",
    "gnpData = pd.read_csv('Historical Statistics of the US - gross national product.csv', names= names, skiprows  =8)\n",
    "gnpData = convertIndex(gnpData)\n",
    "\n",
    "\n",
    "gnpPcTable =HistDataToFred(gnpData,'GNP per capita [current prices - dollars]')\n",
    "gnpDefTable=HistDataToFred(gnpData,'GNP deflator [1958 = 100]')\n",
    "gnpDefTable1=HistDataToFred(gnpData,'GNP deflator [1958 = 100]')\n",
    "gnpDefTable.window(['1890-01-01','1929-01-01'])\n",
    "\n",
    "gnpDefFred = series('A001RD3A086NBEA')\n",
    "gnpDef= series('A001RD3A086NBEA')\n",
    "\n",
    "\n",
    "for n,d in enumerate(gnpDefTable.data):\n",
    "    gnpDefTable.data[n] = d*gnpDefFred.data[0]/gnpDefTable.data[-1]\n",
    "    \n",
    "\n",
    "gnpDefTable.window(['1890-01-01','1928-01-01'])\n",
    "\n",
    "gnpDef.dates = gnpDefTable.dates.tolist()+gnpDefFred.dates\n",
    "gnpDef.datenumbers = gnpDefTable.datenumbers+gnpDefFred.datenumbers\n",
    "gnpDef.data = gnpDefTable.data+gnpDefFred.data"
   ]
  },
  {
   "cell_type": "code",
   "execution_count": 40,
   "metadata": {
    "collapsed": false
   },
   "outputs": [
    {
     "ename": "ValueError",
     "evalue": "operands could not be broadcast together with shapes (39,) (86,) ",
     "output_type": "error",
     "traceback": [
      "\u001b[0;31m---------------------------------------------------------------------------\u001b[0m",
      "\u001b[0;31mValueError\u001b[0m                                Traceback (most recent call last)",
      "\u001b[0;32m<ipython-input-40-8a91d8817060>\u001b[0m in \u001b[0;36m<module>\u001b[0;34m()\u001b[0m\n\u001b[1;32m      5\u001b[0m \u001b[0mgnpPc\u001b[0m\u001b[0;34m.\u001b[0m\u001b[0mdates\u001b[0m \u001b[0;34m=\u001b[0m \u001b[0mgnpPcTable\u001b[0m\u001b[0;34m.\u001b[0m\u001b[0mdates\u001b[0m\u001b[0;34m.\u001b[0m\u001b[0mtolist\u001b[0m\u001b[0;34m(\u001b[0m\u001b[0;34m)\u001b[0m\u001b[0;34m+\u001b[0m\u001b[0mgnpPcFred\u001b[0m\u001b[0;34m.\u001b[0m\u001b[0mdates\u001b[0m\u001b[0;34m\u001b[0m\u001b[0m\n\u001b[1;32m      6\u001b[0m \u001b[0mgnpPc\u001b[0m\u001b[0;34m.\u001b[0m\u001b[0mdatenumbers\u001b[0m \u001b[0;34m=\u001b[0m \u001b[0mgnpPcTable\u001b[0m\u001b[0;34m.\u001b[0m\u001b[0mdatenumbers\u001b[0m\u001b[0;34m+\u001b[0m\u001b[0mgnpPcFred\u001b[0m\u001b[0;34m.\u001b[0m\u001b[0mdatenumbers\u001b[0m\u001b[0;34m\u001b[0m\u001b[0m\n\u001b[0;32m----> 7\u001b[0;31m \u001b[0mgnpPc\u001b[0m\u001b[0;34m.\u001b[0m\u001b[0mdata\u001b[0m \u001b[0;34m=\u001b[0m \u001b[0mnp\u001b[0m\u001b[0;34m.\u001b[0m\u001b[0marray\u001b[0m\u001b[0;34m(\u001b[0m\u001b[0mgnpPcTable\u001b[0m\u001b[0;34m.\u001b[0m\u001b[0mdata\u001b[0m\u001b[0;34m+\u001b[0m\u001b[0mgnpPcFred\u001b[0m\u001b[0;34m.\u001b[0m\u001b[0mdata\u001b[0m\u001b[0;34m)\u001b[0m\u001b[0;34m/\u001b[0m\u001b[0mnp\u001b[0m\u001b[0;34m.\u001b[0m\u001b[0marray\u001b[0m\u001b[0;34m(\u001b[0m\u001b[0mgnpDef\u001b[0m\u001b[0;34m.\u001b[0m\u001b[0mdata\u001b[0m\u001b[0;34m)\u001b[0m\u001b[0;34m\u001b[0m\u001b[0m\n\u001b[0m\u001b[1;32m      8\u001b[0m \u001b[0;34m\u001b[0m\u001b[0m\n\u001b[1;32m      9\u001b[0m \u001b[0mgnpDef\u001b[0m\u001b[0;34m.\u001b[0m\u001b[0mapc\u001b[0m\u001b[0;34m(\u001b[0m\u001b[0;34m)\u001b[0m\u001b[0;34m\u001b[0m\u001b[0m\n",
      "\u001b[0;31mValueError\u001b[0m: operands could not be broadcast together with shapes (39,) (86,) "
     ]
    }
   ],
   "source": [
    "gnpPcFred = series('A791RC0A052NBEA')\n",
    "gnpPcTable.window(['1890-01-01','1928-01-01'])\n",
    "\n",
    "\n",
    "gnpPc.dates = gnpPcTable.dates.tolist()+gnpPcFred.dates\n",
    "gnpPc.datenumbers = gnpPcTable.datenumbers+gnpPcFred.datenumbers\n",
    "gnpPc.data = np.array(gnpPcTable.data+gnpPcFred.data)/np.array(gnpDef.data)\n",
    "\n",
    "gnpDef.apc()\n",
    "gnpDefTable1.apc()\n"
   ]
  },
  {
   "cell_type": "code",
   "execution_count": null,
   "metadata": {
    "collapsed": false
   },
   "outputs": [],
   "source": [
    "fig = plt.figure()\n",
    "ax = fig.add_subplot(1,1,1)\n",
    "ax.plot_date(gnpPc.datenums,gnpPc.data,'-')\n",
    "gnpPc.recessions()\n",
    "ax.grid()\n",
    "ax.set_yscale('log')"
   ]
  },
  {
   "cell_type": "code",
   "execution_count": null,
   "metadata": {
    "collapsed": false
   },
   "outputs": [],
   "source": [
    "gnpPc.apc()\n",
    "fig = plt.figure()\n",
    "ax = fig.add_subplot(1,1,1)\n",
    "ax.plot_date(gnpPc.datenums,gnpPc.data,'-')\n",
    "gnpPc.recessions()\n",
    "ax.grid()\n",
    "# ax.set_yscale('log')"
   ]
  },
  {
   "cell_type": "code",
   "execution_count": null,
   "metadata": {
    "collapsed": false
   },
   "outputs": [],
   "source": [
    "\n",
    "plt.plot_date(gnpDef.datenums,gnpDef.data,'-')\n",
    "plt.plot_date(gnpDefTable1.datenums,gnpDefTable1.data,'r-',lw=2)\n",
    "gnpDef.recessions()\n",
    "plt.grid()"
   ]
  },
  {
   "cell_type": "code",
   "execution_count": null,
   "metadata": {
    "collapsed": false
   },
   "outputs": [],
   "source": []
  },
  {
   "cell_type": "code",
   "execution_count": null,
   "metadata": {
    "collapsed": false
   },
   "outputs": [],
   "source": []
  },
  {
   "cell_type": "code",
   "execution_count": null,
   "metadata": {
    "collapsed": false
   },
   "outputs": [],
   "source": []
  },
  {
   "cell_type": "code",
   "execution_count": null,
   "metadata": {
    "collapsed": false
   },
   "outputs": [],
   "source": [
    "plt.plot_date(gnpPcTable.datenums,gnpPcTable.data,'-')\n",
    "plt.plot_date(gnpPcFred.datenums,np.array(gnpPcFred.data),'r-',lw=2)\n",
    "gnpDef.recessions()\n",
    "plt.grid()"
   ]
  },
  {
   "cell_type": "code",
   "execution_count": null,
   "metadata": {
    "collapsed": false
   },
   "outputs": [],
   "source": [
    "gnpPcTable.data"
   ]
  },
  {
   "cell_type": "code",
   "execution_count": null,
   "metadata": {
    "collapsed": false
   },
   "outputs": [],
   "source": []
  },
  {
   "cell_type": "code",
   "execution_count": null,
   "metadata": {
    "collapsed": false
   },
   "outputs": [],
   "source": []
  },
  {
   "cell_type": "code",
   "execution_count": null,
   "metadata": {
    "collapsed": false
   },
   "outputs": [],
   "source": []
  },
  {
   "cell_type": "code",
   "execution_count": 41,
   "metadata": {
    "collapsed": false
   },
   "outputs": [
    {
     "ename": "AttributeError",
     "evalue": "'series' object has no attribute 'datenums'",
     "output_type": "error",
     "traceback": [
      "\u001b[0;31m---------------------------------------------------------------------------\u001b[0m",
      "\u001b[0;31mAttributeError\u001b[0m                            Traceback (most recent call last)",
      "\u001b[0;32m<ipython-input-41-8e8e92ae2fd0>\u001b[0m in \u001b[0;36m<module>\u001b[0;34m()\u001b[0m\n\u001b[1;32m      6\u001b[0m \u001b[0mfig\u001b[0m \u001b[0;34m=\u001b[0m \u001b[0mplt\u001b[0m\u001b[0;34m.\u001b[0m\u001b[0mfigure\u001b[0m\u001b[0;34m(\u001b[0m\u001b[0;34m)\u001b[0m\u001b[0;34m\u001b[0m\u001b[0m\n\u001b[1;32m      7\u001b[0m \u001b[0max\u001b[0m \u001b[0;34m=\u001b[0m \u001b[0mfig\u001b[0m\u001b[0;34m.\u001b[0m\u001b[0madd_subplot\u001b[0m\u001b[0;34m(\u001b[0m\u001b[0;36m1\u001b[0m\u001b[0;34m,\u001b[0m\u001b[0;36m1\u001b[0m\u001b[0;34m,\u001b[0m\u001b[0;36m1\u001b[0m\u001b[0;34m)\u001b[0m\u001b[0;34m\u001b[0m\u001b[0m\n\u001b[0;32m----> 8\u001b[0;31m \u001b[0max\u001b[0m\u001b[0;34m.\u001b[0m\u001b[0mplot_date\u001b[0m\u001b[0;34m(\u001b[0m\u001b[0mbankSuspensions\u001b[0m\u001b[0;34m.\u001b[0m\u001b[0mdatenums\u001b[0m\u001b[0;34m,\u001b[0m\u001b[0mbankSuspensions\u001b[0m\u001b[0;34m.\u001b[0m\u001b[0mdata\u001b[0m\u001b[0;34m,\u001b[0m\u001b[0;34m'-'\u001b[0m\u001b[0;34m,\u001b[0m\u001b[0mlw\u001b[0m\u001b[0;34m=\u001b[0m\u001b[0;36m3\u001b[0m\u001b[0;34m)\u001b[0m\u001b[0;34m\u001b[0m\u001b[0m\n\u001b[0m\u001b[1;32m      9\u001b[0m \u001b[0;31m# print bankSuspensions.iloc[0:51].plot()\u001b[0m\u001b[0;34m\u001b[0m\u001b[0;34m\u001b[0m\u001b[0m\n\u001b[1;32m     10\u001b[0m \u001b[0mbankSuspensions\u001b[0m\u001b[0;34m.\u001b[0m\u001b[0mrecessions\u001b[0m\u001b[0;34m(\u001b[0m\u001b[0;34m)\u001b[0m\u001b[0;34m\u001b[0m\u001b[0m\n",
      "\u001b[0;31mAttributeError\u001b[0m: 'series' object has no attribute 'datenums'"
     ]
    },
    {
     "data": {
      "image/png": "[encoded data removed]",
      "text/plain": [
       "<matplotlib.figure.Figure at 0x10d72f668>"
      ]
     },
     "metadata": {},
     "output_type": "display_data"
    }
   ],
   "source": [
    "bankSuspensions = pd.read_csv('Historical Statistics of the US - bank suspensions.csv',skiprows =3,header=True,index_col='Years')\n",
    "\n",
    "bankSuspensions=HistDataToFred(bankSuspensions.iloc[0:51],'Total number of suspensions')\n",
    "\n",
    "\n",
    "fig = plt.figure()\n",
    "ax = fig.add_subplot(1,1,1)\n",
    "ax.plot_date(bankSuspensions.datenums,bankSuspensions.data,'-',lw=3)\n",
    "# print bankSuspensions.iloc[0:51].plot()\n",
    "bankSuspensions.recessions()\n",
    "ax.xaxis.set_major_locator(years10)\n",
    "ax.set_ylabel('Number of banks')\n",
    "ax.grid(True)\n",
    "fig.autofmt_xdate()\n",
    "\n",
    "y = np.arange([0,500])"
   ]
  },
  {
   "cell_type": "code",
   "execution_count": null,
   "metadata": {
    "collapsed": false
   },
   "outputs": [],
   "source": [
    "bankSuspensions.columns"
   ]
  },
  {
   "cell_type": "code",
   "execution_count": null,
   "metadata": {
    "collapsed": false
   },
   "outputs": [],
   "source": []
  }
 ],
 "metadata": {
  "kernelspec": {
   "display_name": "Python 3",
   "language": "python",
   "name": "python3"
  },
  "language_info": {
   "codemirror_mode": {
    "name": "ipython",
    "version": 3
   },
   "file_extension": ".py",
   "mimetype": "text/x-python",
   "name": "python",
   "nbconvert_exporter": "python",
   "pygments_lexer": "ipython3",
   "version": "3.4.3"
  }
 },
 "nbformat": 4,
 "nbformat_minor": 0
}
