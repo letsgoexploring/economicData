{
 "cells": [
  {
   "cell_type": "code",
   "execution_count": 1,
   "metadata": {},
   "outputs": [],
   "source": [
    "import matplotlib.dates as dts\n",
    "import numpy as np\n",
    "import runProcs\n",
    "import pandas as pd\n",
    "import matplotlib.pyplot as plt\n",
    "import os\n",
    "plt.style.use('classic')\n",
    "%matplotlib inline\n",
    "\n",
    "# # This program requires the Penn World Tables data file: pwt91.xlsx\n",
    "# # available at https://pwt.sas.upenn.edu/"
   ]
  },
  {
   "cell_type": "code",
   "execution_count": 2,
   "metadata": {},
   "outputs": [],
   "source": [
    "current_pwt_file = 'pwt100.xlsx'"
   ]
  },
  {
   "cell_type": "code",
   "execution_count": 3,
   "metadata": {},
   "outputs": [],
   "source": [
    "# 0. Setup\n",
    "\n",
    "# # 0.1 general plot settings\n",
    "\n",
    "# font = {'weight' : 'bold',\n",
    "#         'size'   : 15}\n",
    "# plt.rc('font', **font)\n",
    "# plt.rcParams['xtick.major.pad']='8'\n",
    "# plt.rcParams['ytick.major.pad']='8'\n",
    "\n",
    "\n",
    "# 0.2 Formatter for inserting commas in y axis labels with magnitudes in the thousands\n",
    "\n",
    "def func(x, pos):  # formatter function takes tick label and tick position\n",
    "   s = '{:0,d}'.format(int(x))\n",
    "   return s\n",
    "\n",
    "y_format = plt.FuncFormatter(func)  # make formatter\n",
    "\n",
    "# 0.3 format the x axis ticksticks\n",
    "years2,years4,years5,years10,years15= dts.YearLocator(2),dts.YearLocator(4),dts.YearLocator(5),dts.YearLocator(10),dts.YearLocator(15)\n",
    "\n",
    "\n",
    "# 0.4 y label locator for vertical axes plotting gdp\n",
    "majorLocator_y   = plt.MultipleLocator(3)\n",
    "majorLocator_shares   = plt.MultipleLocator(0.2)"
   ]
  },
  {
   "cell_type": "code",
   "execution_count": 4,
   "metadata": {},
   "outputs": [],
   "source": [
    "# 1. Import data\n",
    "if os.path.exists('../xslx/pwt100.xlsx'):\n",
    "    pwt = pd.read_excel('../xslx/'+current_pwt_file,sheet_name='Data')\n",
    "else:\n",
    "    pwt = pd.read_excel('https://www.rug.nl/ggdc/docs/'+current_pwt_file,sheet_name='Data')"
   ]
  },
  {
   "cell_type": "code",
   "execution_count": 5,
   "metadata": {},
   "outputs": [
    {
     "data": {
      "text/plain": [
       "70"
      ]
     },
     "execution_count": 5,
     "metadata": {},
     "output_type": "execute_result"
    }
   ],
   "source": [
    "# 2. lists of countries, codes, and years\n",
    "year0 = 1960\n",
    "\n",
    "country_codes=[]\n",
    "countries = []\n",
    "years = []\n",
    "for code in pwt['countrycode']:\n",
    "    if code not in country_codes:\n",
    "        country_codes.append(code)\n",
    "        \n",
    "for country in pwt['country']:\n",
    "    if country == u\"Côte d'Ivoire\":\n",
    "        country = u\"Cote d'Ivoire\"\n",
    "    if country not in countries:\n",
    "        countries.append(country)\n",
    "        \n",
    "for year in pwt['year']:\n",
    "    if year not in years:\n",
    "        years.append(year)\n",
    "\n",
    "year0= years.index(year0)\n",
    "len(years)"
   ]
  },
  {
   "cell_type": "code",
   "execution_count": null,
   "metadata": {
    "scrolled": true
   },
   "outputs": [
    {
     "name": "stdout",
     "output_type": "stream",
     "text": [
      "111  countries in the sample.\n"
     ]
    }
   ],
   "source": [
    "# 3. Create deatasets\n",
    "\n",
    "# 3.1 income and population datasets\n",
    "income_dict = {}\n",
    "income_pc_dict = {}\n",
    "pop_dict = {}\n",
    "count=0\n",
    "for i,code in enumerate(country_codes):\n",
    "    income = pwt.loc[pwt['countrycode'] == code]['cgdpe'].values\n",
    "    pop = pwt.loc[pwt['countrycode'] == code]['pop'].values\n",
    "    income_pc = income/pop\n",
    "    if code =='ZWE':\n",
    "        income = income[0:len(years)]\n",
    "        income_pc = income_pc[0:len(years)]\n",
    "        pop = pop[0:len(years)]\n",
    "    if True not in [np.isnan(x) for x in income_pc[year0:]]:\n",
    "        income_dict[countries[i]+' - '+code] = income[year0:].tolist()\n",
    "        income_pc_dict[countries[i]+' - '+code] = income_pc[year0:].tolist()\n",
    "        pop_dict[countries[i]+' - '+code] = pop[year0:].tolist()\n",
    "        count+=1\n",
    "\n",
    "income = pd.DataFrame(income_dict,index=years[year0:])\n",
    "income_pc = pd.DataFrame(income_pc_dict,index=years[year0:])\n",
    "\n",
    "income_pc = np.round(income_pc,5)\n",
    "income_pcLog = np.round(np.log(income_pc),5)\n",
    "\n",
    "# totalPop = pop.sum(axis=1)\n",
    "# totalIncome = income.sum(axis=1)\n",
    "# totalincome_pc = totalIncome/totalPop\n",
    "\n",
    "print(count,' countries in the sample.')\n",
    "\n",
    "income_pc.to_csv('../csv/cross_country_income_per_capita.csv',index_label='year')\n",
    "income_pcLog.to_csv('../csv/cross_country_income_per_capita_log.csv',index_label='year')\n",
    "\n",
    "# 3.2 Other datasets\n",
    "\n",
    "def create_data_set(pwtCode='cgdpe',per_capita=True,per_worker=False,file_name='../csv/test'):\n",
    "    \n",
    "    new_dict = {}\n",
    "    new_pc_dict = {}\n",
    "    new_pw_dict = {}\n",
    "    pop_dict = {}\n",
    "    employed_dict = {}\n",
    "\n",
    "    for i,code in enumerate(country_codes):\n",
    "        income = pwt.loc[pwt['countrycode'] == code]['cgdpe'].values\n",
    "        pop = pwt.loc[pwt['countrycode'] == code]['pop'].values\n",
    "        employed = pwt.loc[pwt['countrycode'] == code]['emp'].values\n",
    "        \n",
    "        income_pc = income/pop\n",
    "        new = pwt.loc[pwt['countrycode'] == code][pwtCode].values\n",
    "        new_pc = new/pop\n",
    "        new_pw = new/employed\n",
    "        \n",
    "        if code =='ZWE':\n",
    "            income = income[0:len(years)]\n",
    "            income_pc = income_pc[0:len(years)]\n",
    "            new = new[0:len(years)]\n",
    "            new_pc = new_pc[0:len(years)]\n",
    "            new_pw = new_pw[0:len(years)]\n",
    "            pop = pop[0:len(years)]\n",
    "            employed = employed[0:len(years)]\n",
    "        if True not in [np.isnan(x) for x in income_pc[year0:]]:\n",
    "            new_dict[countries[i]+' - '+code] = new[year0:].tolist()\n",
    "            new_pc_dict[countries[i]+' - '+code] = new_pc[year0:].tolist()\n",
    "            new_pw_dict[countries[i]+' - '+code] = new_pw[year0:].tolist()\n",
    "    \n",
    "    new = pd.DataFrame(new_dict,index=years[year0:])\n",
    "    new_pc = pd.DataFrame(new_pc_dict,index=years[year0:])\n",
    "    new_pw = pd.DataFrame(new_pw_dict,index=years[year0:])\n",
    "    \n",
    "    new = np.round(new,5)\n",
    "    new_pc = np.round(new_pc,5)\n",
    "    new_pw = np.round(new_pw,5)\n",
    "\n",
    "    if per_capita == True:\n",
    "        new_pc.to_csv(file_name+'.csv',index_label='year')\n",
    "        return new_pc\n",
    "    elif per_worker == True:\n",
    "        new_pw.to_csv(file_name+'.csv',index_label='year')\n",
    "        return new_pw\n",
    "    else:\n",
    "        new.to_csv(file_name+'.csv',index_label='year')    \n",
    "        return new\n",
    "\n",
    "income_pw = create_data_set(pwtCode='cgdpe',per_capita=False,per_worker=True,file_name='../csv/cross_country_income_per_worker')\n",
    "output_pw = create_data_set(pwtCode='cgdpo',per_capita=False,per_worker=True,file_name='../csv/cross_country_output_per_worker')\n",
    "output_pc = create_data_set(pwtCode='cgdpo',per_capita=True,per_worker=False,file_name='../csv/cross_country_output_per_capita')\n",
    "consumption_pc = create_data_set(pwtCode='ccon',per_capita=True,per_worker=False,file_name='../csv/cross_country_consumption_per_capita')\n",
    "physical_capital_pw = create_data_set(pwtCode='cn',per_capita=False,per_worker=True,file_name='../csv/cross_country_physical_capital_per_worker')\n",
    "physical_capital_pc = create_data_set(pwtCode='cn',per_capita=True,per_worker=False,file_name='../csv/cross_country_physical_capital_per_capita')\n",
    "human_capital_pc = create_data_set(pwtCode='hc',per_capita=False,per_worker=False,file_name='../csv/cross_country_human_capital_per_capita')\n",
    "employed = create_data_set(pwtCode='hc',per_capita=False,per_worker=False,file_name='../csv/cross_country_employed')\n",
    "hours = create_data_set(pwtCode='avh',per_capita=False,per_worker=False,file_name='../csv/cross_country_hours')\n",
    "popluation = create_data_set(pwtCode='pop',per_capita=False,per_worker=False,file_name='../csv/cross_country_population')\n",
    "savingRate = create_data_set(pwtCode='csh_i',per_capita=False,per_worker=False,file_name='../csv/cross_country_saving_rate')\n",
    "laborShare = create_data_set(pwtCode='labsh',per_capita=False,per_worker=False,file_name='../csv/cross_country_labor_share')\n",
    "depreciation = create_data_set(pwtCode='delta',per_capita=False,per_worker=False,file_name='../csv/cross_country_depreciation_rate')"
   ]
  },
  {
   "cell_type": "code",
   "execution_count": null,
   "metadata": {
    "scrolled": true
   },
   "outputs": [],
   "source": [
    "# 4. Plot for website\n",
    "data = pd.read_csv('../csv/cross_country_income_per_capita.csv',index_col='year')\n",
    "income60 = data.iloc[0]/1000\n",
    "growth = 100*((data.iloc[-1]/data.iloc[0])**(1/(len(data.index)-1))-1)\n",
    "\n",
    "fig = plt.figure(figsize=(10, 6)) \n",
    "ax = fig.add_subplot(1,1,1)\n",
    "colors = ['red','blue','magenta','green']\n",
    "\n",
    "plt.scatter(income60,growth,s=0.0001)\n",
    "for i, txt in enumerate(data.columns):\n",
    "    \n",
    "    ax.annotate(txt[-3:], (income60[i],growth[i]),fontsize=10,color = colors[np.mod(i,4)])\n",
    "ax.grid()\n",
    "# ax.set_xscale('log')\n",
    "ax.set_xlabel('GDP per capita in 1960\\n (thousands of 2011 $ PPP)')\n",
    "ax.set_ylabel('Real GDP per capita growth\\nfrom 1970 to '+str(years[-1])+ ' (%)')\n",
    "ax.set_xlim([0,25])\n",
    "\n",
    "fig.tight_layout()\n",
    "plt.savefig('../png/fig_GDP_GDP_Growth_site.png',bbox_inches='tight')"
   ]
  },
  {
   "cell_type": "code",
   "execution_count": null,
   "metadata": {},
   "outputs": [],
   "source": [
    "#5. Export notebook to python script\n",
    "runProcs.exportNb('cross_country_income_data')"
   ]
  }
 ],
 "metadata": {
  "kernelspec": {
   "display_name": "Python 3",
   "language": "python",
   "name": "python3"
  },
  "language_info": {
   "codemirror_mode": {
    "name": "ipython",
    "version": 3
   },
   "file_extension": ".py",
   "mimetype": "text/x-python",
   "name": "python",
   "nbconvert_exporter": "python",
   "pygments_lexer": "ipython3",
   "version": "3.8.5"
  }
 },
 "nbformat": 4,
 "nbformat_minor": 1
}
